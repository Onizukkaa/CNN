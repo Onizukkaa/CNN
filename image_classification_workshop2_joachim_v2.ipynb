{
 "cells": [
  {
   "cell_type": "markdown",
   "metadata": {},
   "source": [
    "# Chat ou Chien !! une méthode d'apprentissage automatique.\n",
    "\n",
    "Dans une entreprise de marketing, on veut faire une étude sur les clients qui fréquentent un grand magasin. L'idée est d'estimer le pourcentage de clients qui ont des chats et ceux qui ont des chiens, afin de prendre des décisions marketing ciblées. Vous proposez d'utiliser une caméra pour détecter et compter les deux animaux dans le magasin. La première étape du projet est de développer un modèle qui peut détecter le chat ou le chien. Ainsi, dans ce brief, en utilisant une base de données, vous allez entrainer un modèle d'apprentissage automatique avec un apprentissage supervisé."
   ]
  },
  {
   "cell_type": "markdown",
   "metadata": {},
   "source": [
    "# Veille technologique: Opencv python\n",
    "\n",
    "- Préparation données imagerie pour méthode classique d'apprentissage automatique\n",
    "- Entrainement et évaluation (similaire aux briefs précédents)"
   ]
  },
  {
   "cell_type": "markdown",
   "metadata": {},
   "source": [
    "## Operations Simples"
   ]
  },
  {
   "cell_type": "code",
   "execution_count": 1,
   "metadata": {},
   "outputs": [],
   "source": [
    "# use opencv to load and display the image\n",
    "import os\n",
    "from os import listdir\n",
    "import cv2\n",
    "from skimage.io import imread, imsave, imshow\n",
    "import numpy as np\n",
    "from numpy import load\n",
    "import tensorflow\n",
    "from tensorflow import keras\n",
    "from tensorflow.keras.preprocessing.image import load_img, img_to_array\n",
    "from numpy import save, asarray\n",
    "from functools import partial\n",
    "\n",
    "\n"
   ]
  },
  {
   "cell_type": "code",
   "execution_count": 2,
   "metadata": {},
   "outputs": [],
   "source": [
    "# Préparer data \n",
    "size = 150\n",
    "# repertoir d'images avec deux sous dossiers \"Cat\" et \"Dog\"\n",
    "image_directory = r\"C:/Users/utilisateur/Downloads/kagglecatsanddogs_3367a/PetImages\"\n",
    "images = []  # liste pour images  \n",
    "label = []  # liste pour Label (0 ou 1) pour deux classes.\n",
    "\n",
    "# utiliser \"os\" pour avoir les noms des images dans chaque sous dossier\n",
    "cat_images = os.listdir(\"PetImages/Cat\")\n",
    "dog_images = os.listdir(\"PetImages/Dog\")"
   ]
  },
  {
   "cell_type": "code",
   "execution_count": 20,
   "metadata": {},
   "outputs": [
    {
     "name": "stdout",
     "output_type": "stream",
     "text": [
      "erreur sur l'image 10404.jpg\n",
      "erreur sur l'image 2939.jpg\n",
      "erreur sur l'image 5686.jpg\n",
      "erreur sur l'image 666.jpg\n",
      "erreur sur l'image 7276.jpg\n",
      "erreur sur l'image 11702.jpg\n",
      "erreur sur l'image 1308.jpg\n",
      "erreur sur l'image 1773.jpg\n",
      "erreur sur l'image 3823.jpg\n"
     ]
    },
    {
     "name": "stderr",
     "output_type": "stream",
     "text": [
      "C:\\Users\\utilisateur\\anaconda3\\lib\\site-packages\\PIL\\TiffImagePlugin.py:822: UserWarning: Truncated File Read\n",
      "  warnings.warn(str(msg))\n"
     ]
    }
   ],
   "source": [
    "#boucle\n",
    "\n",
    "dim=(size,size)\n",
    "\n",
    "#chat\n",
    "for file_name in cat_images:\n",
    "    path=image_directory+\"/Cat/\"+file_name\n",
    "    try:\n",
    "        img=imread(path)\n",
    "        img=cv2.resize(img,dim,interpolation=cv2.INTER_AREA)\n",
    "        img=np.array(img)\n",
    "        \n",
    "        \n",
    "        if(img.shape[2]>3):\n",
    "            img_temp=np.copy(img[:,:,0:3])\n",
    "            img=np.copy(img_temp)\n",
    "            \n",
    "    except:\n",
    "            print(f\"erreur sur l'image {file_name}\")\n",
    "    \n",
    "    else:\n",
    "        images.append(img)\n",
    "        label.append(0)\n",
    "        \n",
    "    \n",
    "    \n",
    "#chien\n",
    "for file_name in dog_images:\n",
    "    path=image_directory+\"/Dog/\"+file_name\n",
    "    try:\n",
    "        img=imread(path)\n",
    "        img=cv2.resize(img,dim,interpolation=cv2.INTER_AREA)\n",
    "        img=np.array(img)\n",
    "        \n",
    "        \n",
    "        if(img.shape[2]>3):\n",
    "            img_temp=np.copy(img[:,:,0:3])\n",
    "            img=np.copy(img_temp)\n",
    "            \n",
    "    except:\n",
    "        print(f\"erreur sur l'image {file_name}\")\n",
    "        \n",
    "    else:\n",
    "        images.append(img)\n",
    "        label.append(1)"
   ]
  },
  {
   "cell_type": "code",
   "execution_count": 7,
   "metadata": {},
   "outputs": [
    {
     "data": {
      "text/plain": [
       "'\\n# utiliser une boucle pour lire chaque image, redimensionner en (150,150,3),\\n# et la mettre dans images, et mettre le label(0 ou 1) selon le type dans \"label\"\\n\\nfor file in listdir(\"PetImages/Dog/\"):\\n   \\n    #load image\\n    \\n    try:\\n        image=np.float32(load_img(\"PetImages/Dog/\"+file))\\n        resized=cv2.resize(image,(size,size), interpolation=cv2.INTER_AREA)\\n      \\n        #convert to numpy array\\n        image=img_to_array(image)\\n        images.append(image)\\n        label.append(0)\\n        \\n    except:\\n        print(f\"erreur sur l\\'image {file}\")\\n        \\n    #else:\\n        #images.append(image)\\n        #label.append(0)\\n\\n\\nfor file in listdir(\"PetImages/Cat/\"):\\n    \\n   \\n    #load image\\n    \\n    try:\\n        image=np.float32(load_img(\"PetImages/Cat/\"+file))\\n        resized=cv2.resize(image,(size,size), interpolation=cv2.INTER_AREA)\\n        #convert to numpy array\\n        image=img_to_array(image)\\n        images.append(image)\\n        label.append(1)\\n    except:\\n        print(f\"erreur sur l\\'image {file}\")\\n        \\n    #else:\\n        #images.append(image)\\n        #label.append(1)\\n\\n\\n    \\n    #convert to a numpy array\\nimages=asarray(images)\\nlabel=asarray(label)\\n            \\n# il y a des images corrumpues, utiliser try ... catch except pour les ignorer\\n\\n\\n'"
      ]
     },
     "execution_count": 7,
     "metadata": {},
     "output_type": "execute_result"
    }
   ],
   "source": [
    "\"\"\"\n",
    "# utiliser une boucle pour lire chaque image, redimensionner en (150,150,3),\n",
    "# et la mettre dans images, et mettre le label(0 ou 1) selon le type dans \"label\"\n",
    "\n",
    "for file in listdir(\"PetImages/Dog/\"):\n",
    "   \n",
    "    #load image\n",
    "    \n",
    "    try:\n",
    "        image=np.float32(load_img(\"PetImages/Dog/\"+file))\n",
    "        resized=cv2.resize(image,(size,size), interpolation=cv2.INTER_AREA)\n",
    "      \n",
    "        #convert to numpy array\n",
    "        image=img_to_array(image)\n",
    "        images.append(image)\n",
    "        label.append(0)\n",
    "        \n",
    "    except:\n",
    "        print(f\"erreur sur l'image {file}\")\n",
    "        \n",
    "    #else:\n",
    "        #images.append(image)\n",
    "        #label.append(0)\n",
    "\n",
    "\n",
    "for file in listdir(\"PetImages/Cat/\"):\n",
    "    \n",
    "   \n",
    "    #load image\n",
    "    \n",
    "    try:\n",
    "        image=np.float32(load_img(\"PetImages/Cat/\"+file))\n",
    "        resized=cv2.resize(image,(size,size), interpolation=cv2.INTER_AREA)\n",
    "        #convert to numpy array\n",
    "        image=img_to_array(image)\n",
    "        images.append(image)\n",
    "        label.append(1)\n",
    "    except:\n",
    "        print(f\"erreur sur l'image {file}\")\n",
    "        \n",
    "    #else:\n",
    "        #images.append(image)\n",
    "        #label.append(1)\n",
    "\n",
    "\n",
    "    \n",
    "    #convert to a numpy array\n",
    "images=asarray(images)\n",
    "label=asarray(label)\n",
    "            \n",
    "# il y a des images corrumpues, utiliser try ... catch except pour les ignorer\n",
    "\n",
    "\n",
    "\"\"\"\n"
   ]
  },
  {
   "cell_type": "code",
   "execution_count": 21,
   "metadata": {},
   "outputs": [
    {
     "name": "stdout",
     "output_type": "stream",
     "text": [
      "49982\n",
      "49982\n"
     ]
    }
   ],
   "source": [
    "# show shape\n",
    "print(len(images))\n",
    "print(len(label))"
   ]
  },
  {
   "cell_type": "code",
   "execution_count": 22,
   "metadata": {},
   "outputs": [],
   "source": [
    "# transformer les listes en numpy \n",
    "np_images = np.array(images)\n",
    "np_label = np.array(label)"
   ]
  },
  {
   "cell_type": "code",
   "execution_count": 23,
   "metadata": {
    "scrolled": true
   },
   "outputs": [],
   "source": [
    "# save data as \".npy\" file\n",
    "np.save(\"dog_cat_images.npy\",images)\n",
    "np.save(\"dog_cat_label.npy\",label)\n"
   ]
  },
  {
   "cell_type": "code",
   "execution_count": 24,
   "metadata": {},
   "outputs": [
    {
     "name": "stdout",
     "output_type": "stream",
     "text": [
      "(49982, 150, 150, 3)\n",
      "(49982,)\n"
     ]
    }
   ],
   "source": [
    "# show shape\n",
    "print(np_images.shape)\n",
    "print(np_label.shape)"
   ]
  },
  {
   "cell_type": "code",
   "execution_count": 2,
   "metadata": {},
   "outputs": [],
   "source": [
    "# prepare data for classical machine learning model\n",
    "\n",
    "from sklearn.ensemble import RandomForestClassifier\n",
    "from sklearn.model_selection import train_test_split\n"
   ]
  },
  {
   "cell_type": "code",
   "execution_count": null,
   "metadata": {},
   "outputs": [],
   "source": [
    "C:\\Users\\utilisateur\\OneDrive - Simplonformations.co\\Bureau\\Formation IA\\Story_25_CNN"
   ]
  },
  {
   "cell_type": "code",
   "execution_count": 3,
   "metadata": {},
   "outputs": [],
   "source": [
    "X=np.load(\"C:/Users/utilisateur/OneDrive - Simplonformations.co/Bureau/Formation IA/Story_25_CNN/dog_cat_images.npy\")\n",
    "y=np.load(\"C:/Users/utilisateur/OneDrive - Simplonformations.co/Bureau/Formation IA/Story_25_CNN/dog_cat_label.npy\")\n",
    "#X_reshaped=np.reshape(X,(X.shape[0],150*150*3))"
   ]
  },
  {
   "cell_type": "code",
   "execution_count": 27,
   "metadata": {},
   "outputs": [
    {
     "data": {
      "text/plain": [
       "(49982, 67500)"
      ]
     },
     "execution_count": 27,
     "metadata": {},
     "output_type": "execute_result"
    }
   ],
   "source": [
    "X_reshaped.shape"
   ]
  },
  {
   "cell_type": "code",
   "execution_count": 4,
   "metadata": {},
   "outputs": [],
   "source": [
    "# split les données en train et test avec \"stratification\"\n",
    "X_train, X_test, y_train, y_test = train_test_split(X, y, test_size=0.2, random_state=42, stratify = y)"
   ]
  },
  {
   "cell_type": "code",
   "execution_count": 16,
   "metadata": {},
   "outputs": [
    {
     "data": {
      "text/plain": [
       "(39985, 150, 150, 3)"
      ]
     },
     "execution_count": 16,
     "metadata": {},
     "output_type": "execute_result"
    }
   ],
   "source": [
    "X_train.shape"
   ]
  },
  {
   "cell_type": "code",
   "execution_count": 30,
   "metadata": {},
   "outputs": [
    {
     "data": {
      "text/plain": [
       "(16495, 67500)"
      ]
     },
     "execution_count": 30,
     "metadata": {},
     "output_type": "execute_result"
    }
   ],
   "source": [
    "X_test.shape"
   ]
  },
  {
   "cell_type": "code",
   "execution_count": 31,
   "metadata": {},
   "outputs": [
    {
     "data": {
      "text/plain": [
       "8372"
      ]
     },
     "execution_count": 31,
     "metadata": {},
     "output_type": "execute_result"
    }
   ],
   "source": [
    "y_train.sum()"
   ]
  },
  {
   "cell_type": "code",
   "execution_count": 32,
   "metadata": {},
   "outputs": [
    {
     "data": {
      "text/plain": [
       "4124"
      ]
     },
     "execution_count": 32,
     "metadata": {},
     "output_type": "execute_result"
    }
   ],
   "source": [
    "y_test.sum()"
   ]
  },
  {
   "cell_type": "code",
   "execution_count": 35,
   "metadata": {},
   "outputs": [
    {
     "name": "stderr",
     "output_type": "stream",
     "text": [
      "[Parallel(n_jobs=1)]: Using backend SequentialBackend with 1 concurrent workers.\n"
     ]
    },
    {
     "name": "stdout",
     "output_type": "stream",
     "text": [
      "building tree 1 of 100\n"
     ]
    },
    {
     "name": "stderr",
     "output_type": "stream",
     "text": [
      "[Parallel(n_jobs=1)]: Done   1 out of   1 | elapsed:   11.7s remaining:    0.0s\n"
     ]
    },
    {
     "name": "stdout",
     "output_type": "stream",
     "text": [
      "building tree 2 of 100\n",
      "building tree 3 of 100\n",
      "building tree 4 of 100\n",
      "building tree 5 of 100\n",
      "building tree 6 of 100\n",
      "building tree 7 of 100\n",
      "building tree 8 of 100\n",
      "building tree 9 of 100\n",
      "building tree 10 of 100\n",
      "building tree 11 of 100\n",
      "building tree 12 of 100\n",
      "building tree 13 of 100\n",
      "building tree 14 of 100\n",
      "building tree 15 of 100\n",
      "building tree 16 of 100\n",
      "building tree 17 of 100\n",
      "building tree 18 of 100\n",
      "building tree 19 of 100\n",
      "building tree 20 of 100\n",
      "building tree 21 of 100\n",
      "building tree 22 of 100\n",
      "building tree 23 of 100\n",
      "building tree 24 of 100\n",
      "building tree 25 of 100\n",
      "building tree 26 of 100\n",
      "building tree 27 of 100\n",
      "building tree 28 of 100\n",
      "building tree 29 of 100\n",
      "building tree 30 of 100\n",
      "building tree 31 of 100\n",
      "building tree 32 of 100\n",
      "building tree 33 of 100\n",
      "building tree 34 of 100\n",
      "building tree 35 of 100\n",
      "building tree 36 of 100\n",
      "building tree 37 of 100\n",
      "building tree 38 of 100\n",
      "building tree 39 of 100\n",
      "building tree 40 of 100\n",
      "building tree 41 of 100\n",
      "building tree 42 of 100\n",
      "building tree 43 of 100\n",
      "building tree 44 of 100\n",
      "building tree 45 of 100\n",
      "building tree 46 of 100\n",
      "building tree 47 of 100\n",
      "building tree 48 of 100\n",
      "building tree 49 of 100\n",
      "building tree 50 of 100\n",
      "building tree 51 of 100\n",
      "building tree 52 of 100\n",
      "building tree 53 of 100\n",
      "building tree 54 of 100\n",
      "building tree 55 of 100\n",
      "building tree 56 of 100\n",
      "building tree 57 of 100\n",
      "building tree 58 of 100\n",
      "building tree 59 of 100\n",
      "building tree 60 of 100\n",
      "building tree 61 of 100\n",
      "building tree 62 of 100\n",
      "building tree 63 of 100\n",
      "building tree 64 of 100\n",
      "building tree 65 of 100\n",
      "building tree 66 of 100\n",
      "building tree 67 of 100\n",
      "building tree 68 of 100\n",
      "building tree 69 of 100\n",
      "building tree 70 of 100\n",
      "building tree 71 of 100\n",
      "building tree 72 of 100\n",
      "building tree 73 of 100\n",
      "building tree 74 of 100\n",
      "building tree 75 of 100\n",
      "building tree 76 of 100\n",
      "building tree 77 of 100\n",
      "building tree 78 of 100\n",
      "building tree 79 of 100\n",
      "building tree 80 of 100\n",
      "building tree 81 of 100\n",
      "building tree 82 of 100\n",
      "building tree 83 of 100\n",
      "building tree 84 of 100\n",
      "building tree 85 of 100\n",
      "building tree 86 of 100\n",
      "building tree 87 of 100\n",
      "building tree 88 of 100\n",
      "building tree 89 of 100\n",
      "building tree 90 of 100\n",
      "building tree 91 of 100\n",
      "building tree 92 of 100\n",
      "building tree 93 of 100\n",
      "building tree 94 of 100\n",
      "building tree 95 of 100\n",
      "building tree 96 of 100\n",
      "building tree 97 of 100\n",
      "building tree 98 of 100\n",
      "building tree 99 of 100\n",
      "building tree 100 of 100\n"
     ]
    },
    {
     "name": "stderr",
     "output_type": "stream",
     "text": [
      "[Parallel(n_jobs=1)]: Done 100 out of 100 | elapsed: 19.3min finished\n"
     ]
    },
    {
     "data": {
      "text/plain": [
       "RandomForestClassifier(max_depth=20, random_state=0, verbose=2)"
      ]
     },
     "execution_count": 35,
     "metadata": {},
     "output_type": "execute_result"
    }
   ],
   "source": [
    "#initialiser le classifierc\n",
    "clf=RandomForestClassifier(n_estimators=100,max_depth=20,random_state=0,verbose=2)\n",
    "#entrainer le classifier\n",
    "clf.fit(X_train,y_train)"
   ]
  },
  {
   "cell_type": "code",
   "execution_count": 36,
   "metadata": {},
   "outputs": [
    {
     "name": "stderr",
     "output_type": "stream",
     "text": [
      "[Parallel(n_jobs=1)]: Using backend SequentialBackend with 1 concurrent workers.\n",
      "[Parallel(n_jobs=1)]: Done   1 out of   1 | elapsed:    0.0s remaining:    0.0s\n",
      "[Parallel(n_jobs=1)]: Done 100 out of 100 | elapsed:    1.1s finished\n"
     ]
    },
    {
     "name": "stdout",
     "output_type": "stream",
     "text": [
      "              precision    recall  f1-score   support\n",
      "\n",
      "        chat       0.70      0.78      0.74     12371\n",
      "       chien       0.00      0.00      0.00      4124\n",
      "\n",
      "    accuracy                           0.59     16495\n",
      "   macro avg       0.35      0.39      0.37     16495\n",
      "weighted avg       0.53      0.59      0.55     16495\n",
      "\n"
     ]
    }
   ],
   "source": [
    "# evaluate classifier\n",
    "from sklearn.metrics import classification_report\n",
    "# predire\n",
    "y_pred = clf.predict(X_test)\n",
    "# evaluer avec classification_report\n",
    "print(classification_report(y_test, y_pred, target_names=[\"chat\",\"chien\"]))"
   ]
  },
  {
   "cell_type": "code",
   "execution_count": 27,
   "metadata": {},
   "outputs": [],
   "source": [
    "\"\"\"#Créer répertoires\n",
    "dataset_home=\"dataset_dogs_vs_cats/\"\n",
    "subdirs=[\"train/\",\"test/\"]\n",
    "for subdir in subdirs:\n",
    "    #create label subdirectories\n",
    "    labeldirs=[\"dogs/\",\"cats/\"]\n",
    "    for labldir in labeldirs:\n",
    "        newdir=dataset_home+subdir+labldir\n",
    "        os.makedirs(newdir,exist_ok=True)\"\"\""
   ]
  },
  {
   "cell_type": "code",
   "execution_count": 28,
   "metadata": {},
   "outputs": [],
   "source": [
    "\"\"\"#retenir au hasard 25% des images dans l'ensemble de données de test\n",
    "#seed random number generator\n",
    "seed(1)\n",
    "#define ration of picture to use for validation\n",
    "val_ratio=0.25\n",
    "#copy training dataset images into subdirectories\n",
    "src_directory=\"C:/Users/utilisateur/dataset_dogs_vs_cats/train\"\n",
    "for file in listdir(src_directory):\n",
    "    src=src_directory+\"/\"+file\n",
    "    dst_dir=\"train/\"\n",
    "    if random()<val_ratio:\n",
    "        dst_dir=\"test/\"\n",
    "    if file.startswith(\"1\"):\n",
    "        dst=dataset_home+dst_dir+\"cats/\"+file\n",
    "        copyfile(src,dst)\n",
    "    elif file.startswith(\"0\"):\n",
    "        dst=dataset_home+dst_dir+\"dogs/\"+file\n",
    "        copyfile(src,dst)\"\"\""
   ]
  },
  {
   "cell_type": "markdown",
   "metadata": {},
   "source": [
    "### Essayer de normaliser chaque image entre 0 et 255 et rentrainer le modèle. Y a-t-il une amélioration ?"
   ]
  },
  {
   "cell_type": "code",
   "execution_count": null,
   "metadata": {},
   "outputs": [],
   "source": []
  },
  {
   "cell_type": "markdown",
   "metadata": {},
   "source": [
    "# Neural networ MLP\n",
    "\n",
    "Entrainer un modèle MLP pour detecter la class Dog ou Cat."
   ]
  },
  {
   "cell_type": "code",
   "execution_count": 5,
   "metadata": {},
   "outputs": [],
   "source": [
    "# use PCA to reduce dimensions\n",
    "# check this tuto: https://www.askpython.com/python/examples/principal-component-analysis-for-image-data\n",
    "import tensorflow as tf\n",
    "from tensorflow.keras.layers import Input, Dense, Dropout, Flatten, Conv2D,GlobalMaxPooling2D, MaxPooling2D, BatchNormalization\n",
    "from tensorflow.keras.models import Model,Sequential\n",
    "from tensorflow.keras.optimizers import Adam\n",
    "from tensorflow.keras import layers\n",
    "from numpy.random import seed\n",
    "from tensorflow.random import set_seed\n",
    "from tensorflow.keras.wrappers.scikit_learn import KerasClassifier\n",
    "from sklearn.model_selection import GridSearchCV\n",
    "\n",
    "\n",
    "# creer un reseau de neurone avec une couche d'entrée de taille (150*150*3), deux couches caché de taille 128 et une activation \"relu\". \n",
    "# Dernière couche de taille 1 avec une activation sigmoid. Choisir la bonne \"loss function\" et \"optimizer\"\n"
   ]
  },
  {
   "cell_type": "markdown",
   "metadata": {},
   "source": [
    "# ResNet-34\n"
   ]
  },
  {
   "cell_type": "code",
   "execution_count": 6,
   "metadata": {},
   "outputs": [],
   "source": [
    "DefaultConv2D = partial(keras.layers.Conv2D, kernel_size=3, strides=1,\n",
    "                        padding=\"SAME\", use_bias=False)"
   ]
  },
  {
   "cell_type": "code",
   "execution_count": 7,
   "metadata": {},
   "outputs": [],
   "source": [
    "class ResidualUnit(keras.layers.Layer):\n",
    "    def __init__(self, filters, strides=1, activation=\"relu\", **kwargs):\n",
    "        super().__init__(**kwargs)\n",
    "        self.activation = keras.activations.get(activation)\n",
    "        self.main_layers = [\n",
    "            DefaultConv2D(filters, strides=strides),\n",
    "            keras.layers.BatchNormalization(),\n",
    "            self.activation,\n",
    "            DefaultConv2D(filters),\n",
    "            keras.layers.BatchNormalization()]\n",
    "        self.skip_layers = []\n",
    "        if strides > 1:\n",
    "            self.skip_layers = [\n",
    "                DefaultConv2D(filters, kernel_size=1, strides=strides),\n",
    "                keras.layers.BatchNormalization()]\n",
    "\n",
    "    def call(self, inputs):\n",
    "        Z = inputs\n",
    "        for layer in self.main_layers:\n",
    "            Z = layer(Z)\n",
    "        skip_Z = inputs\n",
    "        for layer in self.skip_layers:\n",
    "            skip_Z = layer(skip_Z)\n",
    "        return self.activation(Z + skip_Z)\n"
   ]
  },
  {
   "cell_type": "code",
   "execution_count": 8,
   "metadata": {},
   "outputs": [],
   "source": [
    "#def create_model(lyrs=128,activation=\"elu\", optimizer=\"adam\", loss='SparseCategoricalCrossentropy', dr=0.2):\n",
    "model = keras.models.Sequential()\n",
    "model.add(DefaultConv2D(64, kernel_size=7, strides=2,\n",
    "                        input_shape=[150, 150, 3]))\n",
    "model.add(keras.layers.BatchNormalization())\n",
    "model.add(keras.layers.Activation(\"relu\"))\n",
    "model.add(keras.layers.MaxPool2D(pool_size=3, strides=2, padding=\"SAME\"))\n",
    "prev_filters = 64\n",
    "for filters in [64] * 3 + [128] * 4 + [256] * 6 + [512] * 3:\n",
    "    strides = 1 if filters == prev_filters else 2\n",
    "    model.add(ResidualUnit(filters, strides=strides))\n",
    "    prev_filters = filters\n",
    "model.add(keras.layers.GlobalAvgPool2D())\n",
    "model.add(keras.layers.Flatten())\n",
    "model.add(keras.layers.Dense(2, activation=\"softmax\"))"
   ]
  },
  {
   "cell_type": "code",
   "execution_count": 9,
   "metadata": {},
   "outputs": [],
   "source": [
    "model.compile(optimizer=\"adam\",loss=\"SparseCategoricalCrossentropy\",metrics=['accuracy'])"
   ]
  },
  {
   "cell_type": "code",
   "execution_count": 10,
   "metadata": {},
   "outputs": [
    {
     "name": "stdout",
     "output_type": "stream",
     "text": [
      "Model: \"sequential\"\n",
      "_________________________________________________________________\n",
      "Layer (type)                 Output Shape              Param #   \n",
      "=================================================================\n",
      "conv2d (Conv2D)              (None, 75, 75, 64)        9408      \n",
      "_________________________________________________________________\n",
      "batch_normalization (BatchNo (None, 75, 75, 64)        256       \n",
      "_________________________________________________________________\n",
      "activation (Activation)      (None, 75, 75, 64)        0         \n",
      "_________________________________________________________________\n",
      "max_pooling2d (MaxPooling2D) (None, 38, 38, 64)        0         \n",
      "_________________________________________________________________\n",
      "residual_unit (ResidualUnit) (None, 38, 38, 64)        74240     \n",
      "_________________________________________________________________\n",
      "residual_unit_1 (ResidualUni (None, 38, 38, 64)        74240     \n",
      "_________________________________________________________________\n",
      "residual_unit_2 (ResidualUni (None, 38, 38, 64)        74240     \n",
      "_________________________________________________________________\n",
      "residual_unit_3 (ResidualUni (None, 19, 19, 128)       230912    \n",
      "_________________________________________________________________\n",
      "residual_unit_4 (ResidualUni (None, 19, 19, 128)       295936    \n",
      "_________________________________________________________________\n",
      "residual_unit_5 (ResidualUni (None, 19, 19, 128)       295936    \n",
      "_________________________________________________________________\n",
      "residual_unit_6 (ResidualUni (None, 19, 19, 128)       295936    \n",
      "_________________________________________________________________\n",
      "residual_unit_7 (ResidualUni (None, 10, 10, 256)       920576    \n",
      "_________________________________________________________________\n",
      "residual_unit_8 (ResidualUni (None, 10, 10, 256)       1181696   \n",
      "_________________________________________________________________\n",
      "residual_unit_9 (ResidualUni (None, 10, 10, 256)       1181696   \n",
      "_________________________________________________________________\n",
      "residual_unit_10 (ResidualUn (None, 10, 10, 256)       1181696   \n",
      "_________________________________________________________________\n",
      "residual_unit_11 (ResidualUn (None, 10, 10, 256)       1181696   \n",
      "_________________________________________________________________\n",
      "residual_unit_12 (ResidualUn (None, 10, 10, 256)       1181696   \n",
      "_________________________________________________________________\n",
      "residual_unit_13 (ResidualUn (None, 5, 5, 512)         3676160   \n",
      "_________________________________________________________________\n",
      "residual_unit_14 (ResidualUn (None, 5, 5, 512)         4722688   \n",
      "_________________________________________________________________\n",
      "residual_unit_15 (ResidualUn (None, 5, 5, 512)         4722688   \n",
      "_________________________________________________________________\n",
      "global_average_pooling2d (Gl (None, 512)               0         \n",
      "_________________________________________________________________\n",
      "flatten (Flatten)            (None, 512)               0         \n",
      "_________________________________________________________________\n",
      "dense (Dense)                (None, 2)                 1026      \n",
      "=================================================================\n",
      "Total params: 21,302,722\n",
      "Trainable params: 21,285,698\n",
      "Non-trainable params: 17,024\n",
      "_________________________________________________________________\n"
     ]
    }
   ],
   "source": [
    "model.summary()"
   ]
  },
  {
   "cell_type": "code",
   "execution_count": 12,
   "metadata": {},
   "outputs": [
    {
     "name": "stdout",
     "output_type": "stream",
     "text": [
      "Epoch 1/10\n",
      "250/250 [==============================] - 4585s 18s/step - loss: 0.5823 - accuracy: 0.7389 - val_loss: 0.6523 - val_accuracy: 0.5986\n",
      "Epoch 2/10\n",
      "250/250 [==============================] - 4537s 18s/step - loss: 0.5303 - accuracy: 0.7387 - val_loss: 0.5698 - val_accuracy: 0.7305\n",
      "Epoch 3/10\n",
      "250/250 [==============================] - 4603s 18s/step - loss: 0.5184 - accuracy: 0.7394 - val_loss: 0.5415 - val_accuracy: 0.7545\n",
      "Epoch 4/10\n",
      "250/250 [==============================] - 4433s 18s/step - loss: 0.4953 - accuracy: 0.7406 - val_loss: 0.5389 - val_accuracy: 0.7434\n",
      "Epoch 5/10\n",
      "250/250 [==============================] - 4405s 18s/step - loss: 0.4797 - accuracy: 0.7398 - val_loss: 0.6434 - val_accuracy: 0.7547\n",
      "Epoch 6/10\n",
      "250/250 [==============================] - 4301s 17s/step - loss: 0.4632 - accuracy: 0.7388 - val_loss: 0.8317 - val_accuracy: 0.7547\n",
      "Epoch 7/10\n",
      "250/250 [==============================] - 4399s 18s/step - loss: 0.4392 - accuracy: 0.7456 - val_loss: 0.5562 - val_accuracy: 0.7547\n",
      "Epoch 8/10\n",
      "250/250 [==============================] - 4430s 18s/step - loss: 0.4315 - accuracy: 0.7431 - val_loss: 0.4606 - val_accuracy: 0.7399\n",
      "Epoch 9/10\n",
      "250/250 [==============================] - 4385s 18s/step - loss: 0.4255 - accuracy: 0.7442 - val_loss: 0.7387 - val_accuracy: 0.7545\n",
      "Epoch 10/10\n",
      "250/250 [==============================] - 4398s 18s/step - loss: 0.4189 - accuracy: 0.7415 - val_loss: 0.4450 - val_accuracy: 0.7325\n"
     ]
    }
   ],
   "source": [
    "history2=model.fit( X_train,y_train,epochs=10,\n",
    "                  batch_size=128,validation_split=0.2)"
   ]
  },
  {
   "cell_type": "code",
   "execution_count": 16,
   "metadata": {},
   "outputs": [
    {
     "name": "stdout",
     "output_type": "stream",
     "text": [
      "1250/1250 [==============================] - 942s 754ms/step - loss: 0.4287 - accuracy: 0.7490\n",
      "313/313 [==============================] - 235s 750ms/step - loss: 0.4432 - accuracy: 0.7342\n",
      "Train ; 0.7490308880805969, Test: 0.7342202663421631\n"
     ]
    }
   ],
   "source": [
    "_,train_acc=model.evaluate(X_train,y_train)\n",
    "_,test_acc=model.evaluate(X_test,y_test)\n",
    "print(f\"Train ; {train_acc}, Test: {test_acc}\")"
   ]
  },
  {
   "cell_type": "code",
   "execution_count": 13,
   "metadata": {},
   "outputs": [],
   "source": [
    "import matplotlib.pyplot as plt"
   ]
  },
  {
   "cell_type": "code",
   "execution_count": 15,
   "metadata": {},
   "outputs": [
    {
     "data": {
      "image/png": "[encoded data removed]",
      "text/plain": [
       "<Figure size 432x288 with 1 Axes>"
      ]
     },
     "metadata": {
      "needs_background": "light"
     },
     "output_type": "display_data"
    },
    {
     "data": {
      "image/png": "[encoded data removed]",
      "text/plain": [
       "<Figure size 432x288 with 1 Axes>"
      ]
     },
     "metadata": {
      "needs_background": "light"
     },
     "output_type": "display_data"
    }
   ],
   "source": [
    "# summarize history for accuracy\n",
    "plt.plot(history2.history['accuracy'])\n",
    "plt.plot(history2.history['val_accuracy'])\n",
    "plt.title('model accuracy')\n",
    "plt.ylabel('accuracy')\n",
    "plt.xlabel('epoch')\n",
    "plt.legend(['train', 'test'], loc='upper left')\n",
    "plt.show()\n",
    "# summarize history for loss\n",
    "plt.plot(history2.history['loss'])\n",
    "plt.plot(history2.history['val_loss'])\n",
    "plt.title('model loss')\n",
    "plt.ylabel('loss')\n",
    "plt.xlabel('epoch')\n",
    "plt.legend(['train', 'test'], loc='upper left')\n",
    "plt.show()\n"
   ]
  },
  {
   "cell_type": "markdown",
   "metadata": {},
   "source": [
    "# Approche classique"
   ]
  },
  {
   "cell_type": "code",
   "execution_count": 40,
   "metadata": {},
   "outputs": [],
   "source": [
    "# entrainer le modèle avec validation_split = 2, epochs = 20, et un batch_size = 128\n",
    "\n",
    "\n",
    "\n",
    "def create_model(lyrs=128,activation=\"elu\", optimizer=\"adam\", loss='SparseCategoricalCrossentropy', dr=0.2):\n",
    "    num_classes = 2\n",
    "    \n",
    "    #Set ranfom seed for reproducibility\n",
    "    seed(42)\n",
    "    set_seed(42)\n",
    "    \n",
    "    model = tf.keras.Sequential()\n",
    "    model.add(layers.experimental.preprocessing.Rescaling(1./255))#normalise de 0 a 1\n",
    "    model.add(Conv2D(filters=32,kernel_size=3,padding=\"same\",activation=activation,input_shape=(150,150,3)))\n",
    "    model.add(BatchNormalization())\n",
    "    model.add(MaxPooling2D(2,2))#réduit l'image\n",
    "    model.add(Conv2D(filters=64,kernel_size=3,padding=\"same\",activation=activation))\n",
    "    model.add(MaxPooling2D())#prend le max du pooling\n",
    "    model.add(Conv2D(filters=128,kernel_size=3,padding=\"same\",activation=activation))\n",
    "    model.add(MaxPooling2D())\n",
    "    model.add(Conv2D(filters=256,kernel_size=3,padding=\"same\",activation=activation))\n",
    "    model.add(MaxPooling2D())\n",
    "    \n",
    "    model.add(Flatten())#permet de construire un vecteur\n",
    "    model.add(kayers.dropout(rate=0.2))\n",
    "    model.add(Dense(lyrs,activation=activation))\n",
    "    model.add(kayers.dropout(rate=0.2))\n",
    "    model.add(Dense(250,activation=activation))\n",
    "    model.add(kayers.dropout(rate=0.2))    \n",
    "    model.add(Dense(80,activation=activation))\n",
    "    model.add(kayers.dropout(rate=0.2))\n",
    "    model.add(Dense(32,activation=activation))\n",
    "    model.add(kayers.dropout(rate=0.2))\n",
    "    model.add(Dense(num_classes, activation='softmax'))\n",
    "\n",
    "\n",
    "    model.compile(optimizer=optimizer,loss=loss,metrics=['accuracy'])\n",
    "\n",
    "    return model\n"
   ]
  },
  {
   "cell_type": "code",
   "execution_count": 41,
   "metadata": {},
   "outputs": [
    {
     "name": "stdout",
     "output_type": "stream",
     "text": [
      "Model: \"sequential_4\"\n",
      "_________________________________________________________________\n",
      "Layer (type)                 Output Shape              Param #   \n",
      "=================================================================\n",
      "rescaling_3 (Rescaling)      (None, 150, 150, 3)       0         \n",
      "_________________________________________________________________\n",
      "conv2d_1 (Conv2D)            (None, 150, 150, 32)      896       \n",
      "_________________________________________________________________\n",
      "batch_normalization_1 (Batch (None, 150, 150, 32)      128       \n",
      "_________________________________________________________________\n",
      "max_pooling2d_1 (MaxPooling2 (None, 75, 75, 32)        0         \n",
      "_________________________________________________________________\n",
      "conv2d_2 (Conv2D)            (None, 75, 75, 64)        18496     \n",
      "_________________________________________________________________\n",
      "max_pooling2d_2 (MaxPooling2 (None, 37, 37, 64)        0         \n",
      "_________________________________________________________________\n",
      "conv2d_3 (Conv2D)            (None, 37, 37, 128)       73856     \n",
      "_________________________________________________________________\n",
      "max_pooling2d_3 (MaxPooling2 (None, 18, 18, 128)       0         \n",
      "_________________________________________________________________\n",
      "conv2d_4 (Conv2D)            (None, 18, 18, 256)       295168    \n",
      "_________________________________________________________________\n",
      "max_pooling2d_4 (MaxPooling2 (None, 9, 9, 256)         0         \n",
      "_________________________________________________________________\n",
      "flatten_2 (Flatten)          (None, 20736)             0         \n",
      "_________________________________________________________________\n",
      "dense_10 (Dense)             (None, 300)               6221100   \n",
      "_________________________________________________________________\n",
      "dense_11 (Dense)             (None, 250)               75250     \n",
      "_________________________________________________________________\n",
      "dense_12 (Dense)             (None, 80)                20080     \n",
      "_________________________________________________________________\n",
      "dense_13 (Dense)             (None, 32)                2592      \n",
      "_________________________________________________________________\n",
      "dense_14 (Dense)             (None, 2)                 66        \n",
      "=================================================================\n",
      "Total params: 6,707,632\n",
      "Trainable params: 6,707,568\n",
      "Non-trainable params: 64\n",
      "_________________________________________________________________\n"
     ]
    }
   ],
   "source": [
    "model.summary()"
   ]
  },
  {
   "cell_type": "code",
   "execution_count": 43,
   "metadata": {},
   "outputs": [],
   "source": [
    "model=create_model(lyrs=300,activation=\"relu\", optimizer=\"adam\", loss='SparseCategoricalCrossentropy', dr=0.2)"
   ]
  },
  {
   "cell_type": "code",
   "execution_count": 44,
   "metadata": {},
   "outputs": [
    {
     "name": "stdout",
     "output_type": "stream",
     "text": [
      "Epoch 1/20\n",
      "250/250 [==============================] - 1259s 5s/step - loss: 0.5551 - accuracy: 0.7436 - val_loss: 0.5785 - val_accuracy: 0.7547\n",
      "Epoch 2/20\n",
      "250/250 [==============================] - 1243s 5s/step - loss: 0.5214 - accuracy: 0.7474 - val_loss: 0.5118 - val_accuracy: 0.7547\n",
      "Epoch 3/20\n",
      "250/250 [==============================] - 1164s 5s/step - loss: 0.4977 - accuracy: 0.7478 - val_loss: 0.5335 - val_accuracy: 0.7547\n",
      "Epoch 4/20\n",
      "250/250 [==============================] - 1111s 4s/step - loss: 0.4737 - accuracy: 0.7479 - val_loss: 0.4819 - val_accuracy: 0.7537\n",
      "Epoch 5/20\n",
      "250/250 [==============================] - 1148s 5s/step - loss: 0.4565 - accuracy: 0.7462 - val_loss: 0.5009 - val_accuracy: 0.7529\n",
      "Epoch 6/20\n",
      " 84/250 [=========>....................] - ETA: 11:53 - loss: 0.4311 - accuracy: 0.7479"
     ]
    },
    {
     "ename": "KeyboardInterrupt",
     "evalue": "",
     "output_type": "error",
     "traceback": [
      "\u001b[1;31m---------------------------------------------------------------------------\u001b[0m",
      "\u001b[1;31mKeyboardInterrupt\u001b[0m                         Traceback (most recent call last)",
      "Input \u001b[1;32mIn [44]\u001b[0m, in \u001b[0;36m<cell line: 1>\u001b[1;34m()\u001b[0m\n\u001b[1;32m----> 1\u001b[0m history\u001b[38;5;241m=\u001b[39m\u001b[43mmodel\u001b[49m\u001b[38;5;241;43m.\u001b[39;49m\u001b[43mfit\u001b[49m\u001b[43m(\u001b[49m\u001b[43m \u001b[49m\u001b[43mX_train\u001b[49m\u001b[43m,\u001b[49m\u001b[43my_train\u001b[49m\u001b[43m,\u001b[49m\u001b[43mepochs\u001b[49m\u001b[38;5;241;43m=\u001b[39;49m\u001b[38;5;241;43m20\u001b[39;49m\u001b[43m,\u001b[49m\n\u001b[0;32m      2\u001b[0m \u001b[43m                  \u001b[49m\u001b[43mbatch_size\u001b[49m\u001b[38;5;241;43m=\u001b[39;49m\u001b[38;5;241;43m128\u001b[39;49m\u001b[43m,\u001b[49m\u001b[43mvalidation_split\u001b[49m\u001b[38;5;241;43m=\u001b[39;49m\u001b[38;5;241;43m0.2\u001b[39;49m\u001b[43m)\u001b[49m\n",
      "File \u001b[1;32m~\\anaconda3\\lib\\site-packages\\tensorflow\\python\\keras\\engine\\training.py:108\u001b[0m, in \u001b[0;36menable_multi_worker.<locals>._method_wrapper\u001b[1;34m(self, *args, **kwargs)\u001b[0m\n\u001b[0;32m    106\u001b[0m \u001b[38;5;28;01mdef\u001b[39;00m \u001b[38;5;21m_method_wrapper\u001b[39m(\u001b[38;5;28mself\u001b[39m, \u001b[38;5;241m*\u001b[39margs, \u001b[38;5;241m*\u001b[39m\u001b[38;5;241m*\u001b[39mkwargs):\n\u001b[0;32m    107\u001b[0m   \u001b[38;5;28;01mif\u001b[39;00m \u001b[38;5;129;01mnot\u001b[39;00m \u001b[38;5;28mself\u001b[39m\u001b[38;5;241m.\u001b[39m_in_multi_worker_mode():  \u001b[38;5;66;03m# pylint: disable=protected-access\u001b[39;00m\n\u001b[1;32m--> 108\u001b[0m     \u001b[38;5;28;01mreturn\u001b[39;00m \u001b[43mmethod\u001b[49m\u001b[43m(\u001b[49m\u001b[38;5;28;43mself\u001b[39;49m\u001b[43m,\u001b[49m\u001b[43m \u001b[49m\u001b[38;5;241;43m*\u001b[39;49m\u001b[43margs\u001b[49m\u001b[43m,\u001b[49m\u001b[43m \u001b[49m\u001b[38;5;241;43m*\u001b[39;49m\u001b[38;5;241;43m*\u001b[39;49m\u001b[43mkwargs\u001b[49m\u001b[43m)\u001b[49m\n\u001b[0;32m    110\u001b[0m   \u001b[38;5;66;03m# Running inside `run_distribute_coordinator` already.\u001b[39;00m\n\u001b[0;32m    111\u001b[0m   \u001b[38;5;28;01mif\u001b[39;00m dc_context\u001b[38;5;241m.\u001b[39mget_current_worker_context():\n",
      "File \u001b[1;32m~\\anaconda3\\lib\\site-packages\\tensorflow\\python\\keras\\engine\\training.py:1098\u001b[0m, in \u001b[0;36mModel.fit\u001b[1;34m(self, x, y, batch_size, epochs, verbose, callbacks, validation_split, validation_data, shuffle, class_weight, sample_weight, initial_epoch, steps_per_epoch, validation_steps, validation_batch_size, validation_freq, max_queue_size, workers, use_multiprocessing)\u001b[0m\n\u001b[0;32m   1091\u001b[0m \u001b[38;5;28;01mwith\u001b[39;00m trace\u001b[38;5;241m.\u001b[39mTrace(\n\u001b[0;32m   1092\u001b[0m     \u001b[38;5;124m'\u001b[39m\u001b[38;5;124mTraceContext\u001b[39m\u001b[38;5;124m'\u001b[39m,\n\u001b[0;32m   1093\u001b[0m     graph_type\u001b[38;5;241m=\u001b[39m\u001b[38;5;124m'\u001b[39m\u001b[38;5;124mtrain\u001b[39m\u001b[38;5;124m'\u001b[39m,\n\u001b[0;32m   1094\u001b[0m     epoch_num\u001b[38;5;241m=\u001b[39mepoch,\n\u001b[0;32m   1095\u001b[0m     step_num\u001b[38;5;241m=\u001b[39mstep,\n\u001b[0;32m   1096\u001b[0m     batch_size\u001b[38;5;241m=\u001b[39mbatch_size):\n\u001b[0;32m   1097\u001b[0m   callbacks\u001b[38;5;241m.\u001b[39mon_train_batch_begin(step)\n\u001b[1;32m-> 1098\u001b[0m   tmp_logs \u001b[38;5;241m=\u001b[39m \u001b[43mtrain_function\u001b[49m\u001b[43m(\u001b[49m\u001b[43miterator\u001b[49m\u001b[43m)\u001b[49m\n\u001b[0;32m   1099\u001b[0m   \u001b[38;5;28;01mif\u001b[39;00m data_handler\u001b[38;5;241m.\u001b[39mshould_sync:\n\u001b[0;32m   1100\u001b[0m     context\u001b[38;5;241m.\u001b[39masync_wait()\n",
      "File \u001b[1;32m~\\anaconda3\\lib\\site-packages\\tensorflow\\python\\eager\\def_function.py:780\u001b[0m, in \u001b[0;36mFunction.__call__\u001b[1;34m(self, *args, **kwds)\u001b[0m\n\u001b[0;32m    778\u001b[0m \u001b[38;5;28;01melse\u001b[39;00m:\n\u001b[0;32m    779\u001b[0m   compiler \u001b[38;5;241m=\u001b[39m \u001b[38;5;124m\"\u001b[39m\u001b[38;5;124mnonXla\u001b[39m\u001b[38;5;124m\"\u001b[39m\n\u001b[1;32m--> 780\u001b[0m   result \u001b[38;5;241m=\u001b[39m \u001b[38;5;28;43mself\u001b[39;49m\u001b[38;5;241;43m.\u001b[39;49m\u001b[43m_call\u001b[49m\u001b[43m(\u001b[49m\u001b[38;5;241;43m*\u001b[39;49m\u001b[43margs\u001b[49m\u001b[43m,\u001b[49m\u001b[43m \u001b[49m\u001b[38;5;241;43m*\u001b[39;49m\u001b[38;5;241;43m*\u001b[39;49m\u001b[43mkwds\u001b[49m\u001b[43m)\u001b[49m\n\u001b[0;32m    782\u001b[0m new_tracing_count \u001b[38;5;241m=\u001b[39m \u001b[38;5;28mself\u001b[39m\u001b[38;5;241m.\u001b[39m_get_tracing_count()\n\u001b[0;32m    783\u001b[0m without_tracing \u001b[38;5;241m=\u001b[39m (tracing_count \u001b[38;5;241m==\u001b[39m new_tracing_count)\n",
      "File \u001b[1;32m~\\anaconda3\\lib\\site-packages\\tensorflow\\python\\eager\\def_function.py:807\u001b[0m, in \u001b[0;36mFunction._call\u001b[1;34m(self, *args, **kwds)\u001b[0m\n\u001b[0;32m    804\u001b[0m   \u001b[38;5;28mself\u001b[39m\u001b[38;5;241m.\u001b[39m_lock\u001b[38;5;241m.\u001b[39mrelease()\n\u001b[0;32m    805\u001b[0m   \u001b[38;5;66;03m# In this case we have created variables on the first call, so we run the\u001b[39;00m\n\u001b[0;32m    806\u001b[0m   \u001b[38;5;66;03m# defunned version which is guaranteed to never create variables.\u001b[39;00m\n\u001b[1;32m--> 807\u001b[0m   \u001b[38;5;28;01mreturn\u001b[39;00m \u001b[38;5;28;43mself\u001b[39;49m\u001b[38;5;241;43m.\u001b[39;49m\u001b[43m_stateless_fn\u001b[49m\u001b[43m(\u001b[49m\u001b[38;5;241;43m*\u001b[39;49m\u001b[43margs\u001b[49m\u001b[43m,\u001b[49m\u001b[43m \u001b[49m\u001b[38;5;241;43m*\u001b[39;49m\u001b[38;5;241;43m*\u001b[39;49m\u001b[43mkwds\u001b[49m\u001b[43m)\u001b[49m  \u001b[38;5;66;03m# pylint: disable=not-callable\u001b[39;00m\n\u001b[0;32m    808\u001b[0m \u001b[38;5;28;01melif\u001b[39;00m \u001b[38;5;28mself\u001b[39m\u001b[38;5;241m.\u001b[39m_stateful_fn \u001b[38;5;129;01mis\u001b[39;00m \u001b[38;5;129;01mnot\u001b[39;00m \u001b[38;5;28;01mNone\u001b[39;00m:\n\u001b[0;32m    809\u001b[0m   \u001b[38;5;66;03m# Release the lock early so that multiple threads can perform the call\u001b[39;00m\n\u001b[0;32m    810\u001b[0m   \u001b[38;5;66;03m# in parallel.\u001b[39;00m\n\u001b[0;32m    811\u001b[0m   \u001b[38;5;28mself\u001b[39m\u001b[38;5;241m.\u001b[39m_lock\u001b[38;5;241m.\u001b[39mrelease()\n",
      "File \u001b[1;32m~\\anaconda3\\lib\\site-packages\\tensorflow\\python\\eager\\function.py:2829\u001b[0m, in \u001b[0;36mFunction.__call__\u001b[1;34m(self, *args, **kwargs)\u001b[0m\n\u001b[0;32m   2827\u001b[0m \u001b[38;5;28;01mwith\u001b[39;00m \u001b[38;5;28mself\u001b[39m\u001b[38;5;241m.\u001b[39m_lock:\n\u001b[0;32m   2828\u001b[0m   graph_function, args, kwargs \u001b[38;5;241m=\u001b[39m \u001b[38;5;28mself\u001b[39m\u001b[38;5;241m.\u001b[39m_maybe_define_function(args, kwargs)\n\u001b[1;32m-> 2829\u001b[0m \u001b[38;5;28;01mreturn\u001b[39;00m \u001b[43mgraph_function\u001b[49m\u001b[38;5;241;43m.\u001b[39;49m\u001b[43m_filtered_call\u001b[49m\u001b[43m(\u001b[49m\u001b[43margs\u001b[49m\u001b[43m,\u001b[49m\u001b[43m \u001b[49m\u001b[43mkwargs\u001b[49m\u001b[43m)\u001b[49m\n",
      "File \u001b[1;32m~\\anaconda3\\lib\\site-packages\\tensorflow\\python\\eager\\function.py:1843\u001b[0m, in \u001b[0;36mConcreteFunction._filtered_call\u001b[1;34m(self, args, kwargs, cancellation_manager)\u001b[0m\n\u001b[0;32m   1827\u001b[0m \u001b[38;5;28;01mdef\u001b[39;00m \u001b[38;5;21m_filtered_call\u001b[39m(\u001b[38;5;28mself\u001b[39m, args, kwargs, cancellation_manager\u001b[38;5;241m=\u001b[39m\u001b[38;5;28;01mNone\u001b[39;00m):\n\u001b[0;32m   1828\u001b[0m   \u001b[38;5;124;03m\"\"\"Executes the function, filtering arguments from the Python function.\u001b[39;00m\n\u001b[0;32m   1829\u001b[0m \n\u001b[0;32m   1830\u001b[0m \u001b[38;5;124;03m  Objects aside from Tensors, CompositeTensors, and Variables are ignored.\u001b[39;00m\n\u001b[1;32m   (...)\u001b[0m\n\u001b[0;32m   1841\u001b[0m \u001b[38;5;124;03m    `args` and `kwargs`.\u001b[39;00m\n\u001b[0;32m   1842\u001b[0m \u001b[38;5;124;03m  \"\"\"\u001b[39;00m\n\u001b[1;32m-> 1843\u001b[0m   \u001b[38;5;28;01mreturn\u001b[39;00m \u001b[38;5;28;43mself\u001b[39;49m\u001b[38;5;241;43m.\u001b[39;49m\u001b[43m_call_flat\u001b[49m\u001b[43m(\u001b[49m\n\u001b[0;32m   1844\u001b[0m \u001b[43m      \u001b[49m\u001b[43m[\u001b[49m\u001b[43mt\u001b[49m\u001b[43m \u001b[49m\u001b[38;5;28;43;01mfor\u001b[39;49;00m\u001b[43m \u001b[49m\u001b[43mt\u001b[49m\u001b[43m \u001b[49m\u001b[38;5;129;43;01min\u001b[39;49;00m\u001b[43m \u001b[49m\u001b[43mnest\u001b[49m\u001b[38;5;241;43m.\u001b[39;49m\u001b[43mflatten\u001b[49m\u001b[43m(\u001b[49m\u001b[43m(\u001b[49m\u001b[43margs\u001b[49m\u001b[43m,\u001b[49m\u001b[43m \u001b[49m\u001b[43mkwargs\u001b[49m\u001b[43m)\u001b[49m\u001b[43m,\u001b[49m\u001b[43m \u001b[49m\u001b[43mexpand_composites\u001b[49m\u001b[38;5;241;43m=\u001b[39;49m\u001b[38;5;28;43;01mTrue\u001b[39;49;00m\u001b[43m)\u001b[49m\n\u001b[0;32m   1845\u001b[0m \u001b[43m       \u001b[49m\u001b[38;5;28;43;01mif\u001b[39;49;00m\u001b[43m \u001b[49m\u001b[38;5;28;43misinstance\u001b[39;49m\u001b[43m(\u001b[49m\u001b[43mt\u001b[49m\u001b[43m,\u001b[49m\u001b[43m \u001b[49m\u001b[43m(\u001b[49m\u001b[43mops\u001b[49m\u001b[38;5;241;43m.\u001b[39;49m\u001b[43mTensor\u001b[49m\u001b[43m,\u001b[49m\n\u001b[0;32m   1846\u001b[0m \u001b[43m                         \u001b[49m\u001b[43mresource_variable_ops\u001b[49m\u001b[38;5;241;43m.\u001b[39;49m\u001b[43mBaseResourceVariable\u001b[49m\u001b[43m)\u001b[49m\u001b[43m)\u001b[49m\u001b[43m]\u001b[49m\u001b[43m,\u001b[49m\n\u001b[0;32m   1847\u001b[0m \u001b[43m      \u001b[49m\u001b[43mcaptured_inputs\u001b[49m\u001b[38;5;241;43m=\u001b[39;49m\u001b[38;5;28;43mself\u001b[39;49m\u001b[38;5;241;43m.\u001b[39;49m\u001b[43mcaptured_inputs\u001b[49m\u001b[43m,\u001b[49m\n\u001b[0;32m   1848\u001b[0m \u001b[43m      \u001b[49m\u001b[43mcancellation_manager\u001b[49m\u001b[38;5;241;43m=\u001b[39;49m\u001b[43mcancellation_manager\u001b[49m\u001b[43m)\u001b[49m\n",
      "File \u001b[1;32m~\\anaconda3\\lib\\site-packages\\tensorflow\\python\\eager\\function.py:1923\u001b[0m, in \u001b[0;36mConcreteFunction._call_flat\u001b[1;34m(self, args, captured_inputs, cancellation_manager)\u001b[0m\n\u001b[0;32m   1918\u001b[0m possible_gradient_type \u001b[38;5;241m=\u001b[39m (\n\u001b[0;32m   1919\u001b[0m     pywrap_tfe\u001b[38;5;241m.\u001b[39mTFE_Py_TapeSetPossibleGradientTypes(args))\n\u001b[0;32m   1920\u001b[0m \u001b[38;5;28;01mif\u001b[39;00m (possible_gradient_type \u001b[38;5;241m==\u001b[39m _POSSIBLE_GRADIENT_TYPES_NONE\n\u001b[0;32m   1921\u001b[0m     \u001b[38;5;129;01mand\u001b[39;00m executing_eagerly):\n\u001b[0;32m   1922\u001b[0m   \u001b[38;5;66;03m# No tape is watching; skip to running the function.\u001b[39;00m\n\u001b[1;32m-> 1923\u001b[0m   \u001b[38;5;28;01mreturn\u001b[39;00m \u001b[38;5;28mself\u001b[39m\u001b[38;5;241m.\u001b[39m_build_call_outputs(\u001b[38;5;28;43mself\u001b[39;49m\u001b[38;5;241;43m.\u001b[39;49m\u001b[43m_inference_function\u001b[49m\u001b[38;5;241;43m.\u001b[39;49m\u001b[43mcall\u001b[49m\u001b[43m(\u001b[49m\n\u001b[0;32m   1924\u001b[0m \u001b[43m      \u001b[49m\u001b[43mctx\u001b[49m\u001b[43m,\u001b[49m\u001b[43m \u001b[49m\u001b[43margs\u001b[49m\u001b[43m,\u001b[49m\u001b[43m \u001b[49m\u001b[43mcancellation_manager\u001b[49m\u001b[38;5;241;43m=\u001b[39;49m\u001b[43mcancellation_manager\u001b[49m\u001b[43m)\u001b[49m)\n\u001b[0;32m   1925\u001b[0m forward_backward \u001b[38;5;241m=\u001b[39m \u001b[38;5;28mself\u001b[39m\u001b[38;5;241m.\u001b[39m_select_forward_and_backward_functions(\n\u001b[0;32m   1926\u001b[0m     args,\n\u001b[0;32m   1927\u001b[0m     possible_gradient_type,\n\u001b[0;32m   1928\u001b[0m     executing_eagerly)\n\u001b[0;32m   1929\u001b[0m forward_function, args_with_tangents \u001b[38;5;241m=\u001b[39m forward_backward\u001b[38;5;241m.\u001b[39mforward()\n",
      "File \u001b[1;32m~\\anaconda3\\lib\\site-packages\\tensorflow\\python\\eager\\function.py:545\u001b[0m, in \u001b[0;36m_EagerDefinedFunction.call\u001b[1;34m(self, ctx, args, cancellation_manager)\u001b[0m\n\u001b[0;32m    543\u001b[0m \u001b[38;5;28;01mwith\u001b[39;00m _InterpolateFunctionError(\u001b[38;5;28mself\u001b[39m):\n\u001b[0;32m    544\u001b[0m   \u001b[38;5;28;01mif\u001b[39;00m cancellation_manager \u001b[38;5;129;01mis\u001b[39;00m \u001b[38;5;28;01mNone\u001b[39;00m:\n\u001b[1;32m--> 545\u001b[0m     outputs \u001b[38;5;241m=\u001b[39m \u001b[43mexecute\u001b[49m\u001b[38;5;241;43m.\u001b[39;49m\u001b[43mexecute\u001b[49m\u001b[43m(\u001b[49m\n\u001b[0;32m    546\u001b[0m \u001b[43m        \u001b[49m\u001b[38;5;28;43mstr\u001b[39;49m\u001b[43m(\u001b[49m\u001b[38;5;28;43mself\u001b[39;49m\u001b[38;5;241;43m.\u001b[39;49m\u001b[43msignature\u001b[49m\u001b[38;5;241;43m.\u001b[39;49m\u001b[43mname\u001b[49m\u001b[43m)\u001b[49m\u001b[43m,\u001b[49m\n\u001b[0;32m    547\u001b[0m \u001b[43m        \u001b[49m\u001b[43mnum_outputs\u001b[49m\u001b[38;5;241;43m=\u001b[39;49m\u001b[38;5;28;43mself\u001b[39;49m\u001b[38;5;241;43m.\u001b[39;49m\u001b[43m_num_outputs\u001b[49m\u001b[43m,\u001b[49m\n\u001b[0;32m    548\u001b[0m \u001b[43m        \u001b[49m\u001b[43minputs\u001b[49m\u001b[38;5;241;43m=\u001b[39;49m\u001b[43margs\u001b[49m\u001b[43m,\u001b[49m\n\u001b[0;32m    549\u001b[0m \u001b[43m        \u001b[49m\u001b[43mattrs\u001b[49m\u001b[38;5;241;43m=\u001b[39;49m\u001b[43mattrs\u001b[49m\u001b[43m,\u001b[49m\n\u001b[0;32m    550\u001b[0m \u001b[43m        \u001b[49m\u001b[43mctx\u001b[49m\u001b[38;5;241;43m=\u001b[39;49m\u001b[43mctx\u001b[49m\u001b[43m)\u001b[49m\n\u001b[0;32m    551\u001b[0m   \u001b[38;5;28;01melse\u001b[39;00m:\n\u001b[0;32m    552\u001b[0m     outputs \u001b[38;5;241m=\u001b[39m execute\u001b[38;5;241m.\u001b[39mexecute_with_cancellation(\n\u001b[0;32m    553\u001b[0m         \u001b[38;5;28mstr\u001b[39m(\u001b[38;5;28mself\u001b[39m\u001b[38;5;241m.\u001b[39msignature\u001b[38;5;241m.\u001b[39mname),\n\u001b[0;32m    554\u001b[0m         num_outputs\u001b[38;5;241m=\u001b[39m\u001b[38;5;28mself\u001b[39m\u001b[38;5;241m.\u001b[39m_num_outputs,\n\u001b[1;32m   (...)\u001b[0m\n\u001b[0;32m    557\u001b[0m         ctx\u001b[38;5;241m=\u001b[39mctx,\n\u001b[0;32m    558\u001b[0m         cancellation_manager\u001b[38;5;241m=\u001b[39mcancellation_manager)\n",
      "File \u001b[1;32m~\\anaconda3\\lib\\site-packages\\tensorflow\\python\\eager\\execute.py:59\u001b[0m, in \u001b[0;36mquick_execute\u001b[1;34m(op_name, num_outputs, inputs, attrs, ctx, name)\u001b[0m\n\u001b[0;32m     57\u001b[0m \u001b[38;5;28;01mtry\u001b[39;00m:\n\u001b[0;32m     58\u001b[0m   ctx\u001b[38;5;241m.\u001b[39mensure_initialized()\n\u001b[1;32m---> 59\u001b[0m   tensors \u001b[38;5;241m=\u001b[39m \u001b[43mpywrap_tfe\u001b[49m\u001b[38;5;241;43m.\u001b[39;49m\u001b[43mTFE_Py_Execute\u001b[49m\u001b[43m(\u001b[49m\u001b[43mctx\u001b[49m\u001b[38;5;241;43m.\u001b[39;49m\u001b[43m_handle\u001b[49m\u001b[43m,\u001b[49m\u001b[43m \u001b[49m\u001b[43mdevice_name\u001b[49m\u001b[43m,\u001b[49m\u001b[43m \u001b[49m\u001b[43mop_name\u001b[49m\u001b[43m,\u001b[49m\n\u001b[0;32m     60\u001b[0m \u001b[43m                                      \u001b[49m\u001b[43minputs\u001b[49m\u001b[43m,\u001b[49m\u001b[43m \u001b[49m\u001b[43mattrs\u001b[49m\u001b[43m,\u001b[49m\u001b[43m \u001b[49m\u001b[43mnum_outputs\u001b[49m\u001b[43m)\u001b[49m\n\u001b[0;32m     61\u001b[0m \u001b[38;5;28;01mexcept\u001b[39;00m core\u001b[38;5;241m.\u001b[39m_NotOkStatusException \u001b[38;5;28;01mas\u001b[39;00m e:\n\u001b[0;32m     62\u001b[0m   \u001b[38;5;28;01mif\u001b[39;00m name \u001b[38;5;129;01mis\u001b[39;00m \u001b[38;5;129;01mnot\u001b[39;00m \u001b[38;5;28;01mNone\u001b[39;00m:\n",
      "\u001b[1;31mKeyboardInterrupt\u001b[0m: "
     ]
    }
   ],
   "source": [
    "history=model.fit( X_train,y_train,epochs=20,\n",
    "                  batch_size=128,validation_split=0.2)\n"
   ]
  },
  {
   "cell_type": "code",
   "execution_count": 10,
   "metadata": {},
   "outputs": [
    {
     "name": "stdout",
     "output_type": "stream",
     "text": [
      "[[0.8062827  0.19371729]\n",
      " [0.64334524 0.35665482]\n",
      " [0.5990505  0.40094948]\n",
      " ...\n",
      " [0.8076638  0.19233613]\n",
      " [0.62274754 0.37725246]\n",
      " [0.7467935  0.25320652]]\n"
     ]
    }
   ],
   "source": [
    "# evaluate MLP\n",
    "# evaluate classifier\n",
    "from sklearn.metrics import classification_report\n",
    "# predire\n",
    "y_pred=model.predict(X_test)\n",
    "print(y_pred)"
   ]
  },
  {
   "cell_type": "code",
   "execution_count": 107,
   "metadata": {},
   "outputs": [
    {
     "data": {
      "text/plain": [
       "(16495, 2)"
      ]
     },
     "execution_count": 107,
     "metadata": {},
     "output_type": "execute_result"
    }
   ],
   "source": [
    "y_pred.shape"
   ]
  },
  {
   "cell_type": "code",
   "execution_count": 11,
   "metadata": {},
   "outputs": [
    {
     "name": "stdout",
     "output_type": "stream",
     "text": [
      "1047/1047 [==============================] - 23s 22ms/step - loss: 0.5442 - accuracy: 0.7500\n",
      "516/516 [==============================] - 11s 22ms/step - loss: 0.5525 - accuracy: 0.7500\n",
      "Train ; 0.7499925494194031, Test: 0.749984860420227\n"
     ]
    }
   ],
   "source": [
    "_,train_acc=model.evaluate(X_train,y_train)\n",
    "_,test_acc=model.evaluate(X_test,y_test)\n",
    "print(f\"Train ; {train_acc}, Test: {test_acc}\")"
   ]
  },
  {
   "cell_type": "markdown",
   "metadata": {},
   "source": [
    "#Courbe d'apprentissage"
   ]
  },
  {
   "cell_type": "code",
   "execution_count": 12,
   "metadata": {},
   "outputs": [],
   "source": [
    "import matplotlib.pyplot as plt"
   ]
  },
  {
   "cell_type": "code",
   "execution_count": 13,
   "metadata": {},
   "outputs": [
    {
     "data": {
      "image/png": "[encoded data removed]",
      "text/plain": [
       "<Figure size 432x288 with 1 Axes>"
      ]
     },
     "metadata": {
      "needs_background": "light"
     },
     "output_type": "display_data"
    },
    {
     "data": {
      "image/png": "[encoded data removed]",
      "text/plain": [
       "<Figure size 432x288 with 1 Axes>"
      ]
     },
     "metadata": {
      "needs_background": "light"
     },
     "output_type": "display_data"
    }
   ],
   "source": [
    "# summarize history for accuracy\n",
    "plt.plot(history.history['accuracy'])\n",
    "plt.plot(history.history['val_accuracy'])\n",
    "plt.title('model accuracy')\n",
    "plt.ylabel('accuracy')\n",
    "plt.xlabel('epoch')\n",
    "plt.legend(['train', 'test'], loc='upper left')\n",
    "plt.show()\n",
    "# summarize history for loss\n",
    "plt.plot(history.history['loss'])\n",
    "plt.plot(history.history['val_loss'])\n",
    "plt.title('model loss')\n",
    "plt.ylabel('loss')\n",
    "plt.xlabel('epoch')\n",
    "plt.legend(['train', 'test'], loc='upper left')\n",
    "plt.show()\n"
   ]
  },
  {
   "cell_type": "code",
   "execution_count": null,
   "metadata": {},
   "outputs": [],
   "source": []
  },
  {
   "cell_type": "code",
   "execution_count": null,
   "metadata": {},
   "outputs": [],
   "source": [
    "\n",
    "    \n",
    "\n",
    "\"\"\"Je crois que c'est parce que les images ne sont pas toutes (x,x,3), il y en a qui sont (x,x,4) comme l'image 10125 des chats :\n",
    "(346, 259, 4)\"\"\"\n",
    "\n",
    "\n",
    "\n",
    "\n",
    "    \"\"\"Du coup, quand on charge les images, il faut vérifier celles qui n'ont pas (x,x,3)\n",
    "​[mardi 00:48] Alan VITREY\n",
    "    Pour moi ça fonctionne bien avec asarray en faisant ça.\n",
    "​[mardi 00:50] Alan VITREY\n",
    "    Mon code :\"\"\"\n",
    "\n",
    "images = []  # liste pour images  \n",
    "labels = []  # liste pour Label (0 ou 1) pour deux classes.\n",
    "\n",
    "\n",
    "\n",
    "# utiliser une boucle pour lire chaque image, redimensionner en (150,150,3),\n",
    "# et la mettre dans images, et mettre le label(0 ou 1) selon le type dans \"label\"\n",
    "for subfolder in listdir(folder):\n",
    "    # determine class\n",
    "    output = 0.0\n",
    "    if subfolder.startswith('Dog'):\n",
    "        output = 1.0\n",
    "    for file in listdir(folder +subfolder) :\n",
    "        # load image\n",
    "        try :\n",
    "            #print(folder +subfolder + \"/\" + file)\n",
    "            image = imread(folder +subfolder + \"/\" + file)\n",
    "            image_temp = image.copy()\n",
    "            if image_temp.shape[2] != 3 :\n",
    "                print(image_temp.shape, file)\n",
    "                image_temp2=image_temp[:,:,0:3]\n",
    "                print(image_temp2.shape, file)\n",
    "                plt.figure(file,(10,10))\n",
    "                plt.subplot(121),plt.imshow(image_temp, cmap = 'jet')\n",
    "                plt.title('Input Image'), plt.xticks([]), plt.yticks([])\n",
    "                plt.subplot(122),plt.imshow(image_temp2, cmap = 'jet')\n",
    "                plt.show()\n",
    "                image_temp = image_temp2\n",
    "            \n",
    "            image_resized = cv2.resize(image_temp, (size,size), interpolation = cv2.INTER_CUBIC)\n",
    "            # convert to numpy array\n",
    "            image_array = np.array(image_resized)\n",
    "            # store\n",
    "            images.append(image_array)\n",
    "            labels.append(output)\n",
    "        except (IndexError, ValueError,SyntaxError):\n",
    "            print('IndexError', 'ValueError','SyntaxError')\n",
    "\n",
    "images_array = asarray(images)\n",
    "labels = asarray(labels)\n",
    "\n",
    "\n"
   ]
  },
  {
   "cell_type": "code",
   "execution_count": null,
   "metadata": {},
   "outputs": [],
   "source": []
  },
  {
   "cell_type": "markdown",
   "metadata": {},
   "source": []
  }
 ],
 "metadata": {
  "interpreter": {
   "hash": "2e29c752e75e91034d0c40602915a17cb0379d8f99d244b8deba46517b7d2192"
  },
  "kernelspec": {
   "display_name": "Python 3 (ipykernel)",
   "language": "python",
   "name": "python3"
  },
  "language_info": {
   "codemirror_mode": {
    "name": "ipython",
    "version": 3
   },
   "file_extension": ".py",
   "mimetype": "text/x-python",
   "name": "python",
   "nbconvert_exporter": "python",
   "pygments_lexer": "ipython3",
   "version": "3.8.13"
  }
 },
 "nbformat": 4,
 "nbformat_minor": 2
}
